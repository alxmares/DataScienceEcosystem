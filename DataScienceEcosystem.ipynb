{
 "cells": [
  {
   "cell_type": "markdown",
   "id": "e8aaa1da-6677-420c-912d-ee7c732b5f22",
   "metadata": {},
   "source": [
    "<center>\n",
    "    <img src=\"https://cf-courses-data.s3.us.cloud-object-storage.appdomain.cloud/IBMDeveloperSkillsNetwork-DS0105EN-SkillsNetwork/labs/Module2/images/SN_web_lightmode.png\" width=\"300\" alt=\"cognitiveclass.ai logo\">\n",
    "</center>"
   ]
  },
  {
   "cell_type": "markdown",
   "id": "e0b58464-2dd5-46c8-af7d-c55cb2e1525b",
   "metadata": {},
   "source": [
    "#### Add your code below following the instructions given in the course"
   ]
  },
  {
   "cell_type": "markdown",
   "id": "5af0448b-f227-4a36-a35b-0fec60cddc30",
   "metadata": {},
   "source": [
    "# Data Science Tools and Ecosystem"
   ]
  },
  {
   "cell_type": "markdown",
   "id": "fe2f6ebe-6f2b-4d9d-bd35-ee60c7a22dc1",
   "metadata": {},
   "source": [
    "In this notebook, Data Science Tools and Ecosystem are summarized."
   ]
  },
  {
   "cell_type": "markdown",
   "id": "990f89d2-44d9-47d3-86c7-047d540cb93c",
   "metadata": {},
   "source": [
    "**Objectives:**\n",
    "* List popular languages for Data Science\n",
    "* List commonly libraries used by Data Scientist\n",
    "* Table of Data Science Tools\n",
    "* Few examples of arithmetic expressions in Python"
   ]
  },
  {
   "cell_type": "markdown",
   "id": "b695d648-64b9-4338-b0de-fab808812278",
   "metadata": {},
   "source": [
    "Some of the popular languages that Data Scientists use are:\n",
    "1. Python\n",
    "2. R\n",
    "3. SQL\n",
    "4. Java"
   ]
  },
  {
   "cell_type": "markdown",
   "id": "5111e02e-fb27-4a97-a916-1984345be8a1",
   "metadata": {},
   "source": [
    "Some of the commonly libraries used by Data Scientists include:\n",
    "1. Pandas\n",
    "2. Numpy\n",
    "3. Sklearn\n",
    "4. Keras\n",
    "5. Tensorflow\n",
    "6. Pytorch\n",
    "7. Scipy"
   ]
  },
  {
   "cell_type": "markdown",
   "id": "57552329-43c9-4d40-a24e-91b9b862e31a",
   "metadata": {},
   "source": [
    "| Data Science Tools |\n",
    "|:-------------------|\n",
    "| JupyterLab |\n",
    "| Watson Studio |\n",
    "| RStudio |\n"
   ]
  },
  {
   "cell_type": "markdown",
   "id": "162512b9-2604-45e9-99eb-c824e82a4dbb",
   "metadata": {},
   "source": [
    "### Below are a few examples of evaluating arithmetic expressions in Python\n"
   ]
  },
  {
   "cell_type": "code",
   "execution_count": 2,
   "id": "5a6f8800-88e5-43b9-9093-cbe0d5b5011a",
   "metadata": {},
   "outputs": [
    {
     "data": {
      "text/plain": [
       "17"
      ]
     },
     "execution_count": 2,
     "metadata": {},
     "output_type": "execute_result"
    }
   ],
   "source": [
    "(3*4)+5 # This a simple arithmetic expression to mulyiply then add integers"
   ]
  },
  {
   "cell_type": "code",
   "execution_count": 8,
   "id": "344f957f-375b-4bc8-abdf-254aee9c715e",
   "metadata": {},
   "outputs": [
    {
     "data": {
      "text/plain": [
       "3.3333333333333335"
      ]
     },
     "execution_count": 8,
     "metadata": {},
     "output_type": "execute_result"
    }
   ],
   "source": [
    "minutes = 200\n",
    "hours = minutes/60 # This will convert 200 minutes to hours by dividing by 60\n",
    "hours"
   ]
  },
  {
   "cell_type": "markdown",
   "id": "aca0aa87-e1fb-44c3-88d5-535f104a83d2",
   "metadata": {},
   "source": [
    "## Author\n",
    "Francisco Alex Mares Solano"
   ]
  },
  {
   "cell_type": "code",
   "execution_count": null,
   "id": "e254a5da-af1a-41ac-9d2a-a1578ae1546e",
   "metadata": {},
   "outputs": [],
   "source": []
  }
 ],
 "metadata": {
  "kernelspec": {
   "display_name": "Python 3 (ipykernel)",
   "language": "python",
   "name": "python3"
  },
  "language_info": {
   "codemirror_mode": {
    "name": "ipython",
    "version": 3
   },
   "file_extension": ".py",
   "mimetype": "text/x-python",
   "name": "python",
   "nbconvert_exporter": "python",
   "pygments_lexer": "ipython3",
   "version": "3.11.5"
  }
 },
 "nbformat": 4,
 "nbformat_minor": 5
}
